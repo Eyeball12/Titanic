{
 "cells": [
  {
   "cell_type": "code",
   "execution_count": 1,
   "metadata": {
    "collapsed": true
   },
   "outputs": [],
   "source": [
    "import pandas as pd\n",
    "import numpy as np\n",
    "import matplotlib.pyplot as plt"
   ]
  },
  {
   "cell_type": "code",
   "execution_count": 2,
   "metadata": {
    "collapsed": false
   },
   "outputs": [],
   "source": [
    "df_train=pd.read_csv(\"input/train.csv\")"
   ]
  },
  {
   "cell_type": "code",
   "execution_count": 3,
   "metadata": {
    "collapsed": false
   },
   "outputs": [],
   "source": [
    "df_test=pd.read_csv(\"input/test.csv\")"
   ]
  },
  {
   "cell_type": "code",
   "execution_count": 4,
   "metadata": {
    "collapsed": false
   },
   "outputs": [
    {
     "data": {
      "text/html": [
       "<div>\n",
       "<table border=\"1\" class=\"dataframe\">\n",
       "  <thead>\n",
       "    <tr style=\"text-align: right;\">\n",
       "      <th></th>\n",
       "      <th>PassengerId</th>\n",
       "      <th>Survived</th>\n",
       "      <th>Pclass</th>\n",
       "      <th>Age</th>\n",
       "      <th>SibSp</th>\n",
       "      <th>Parch</th>\n",
       "      <th>Fare</th>\n",
       "    </tr>\n",
       "  </thead>\n",
       "  <tbody>\n",
       "    <tr>\n",
       "      <th>count</th>\n",
       "      <td>549.000000</td>\n",
       "      <td>549.0</td>\n",
       "      <td>549.000000</td>\n",
       "      <td>424.000000</td>\n",
       "      <td>549.000000</td>\n",
       "      <td>549.000000</td>\n",
       "      <td>549.000000</td>\n",
       "    </tr>\n",
       "    <tr>\n",
       "      <th>mean</th>\n",
       "      <td>447.016393</td>\n",
       "      <td>0.0</td>\n",
       "      <td>2.531876</td>\n",
       "      <td>30.626179</td>\n",
       "      <td>0.553734</td>\n",
       "      <td>0.329690</td>\n",
       "      <td>22.117887</td>\n",
       "    </tr>\n",
       "    <tr>\n",
       "      <th>std</th>\n",
       "      <td>260.640469</td>\n",
       "      <td>0.0</td>\n",
       "      <td>0.735805</td>\n",
       "      <td>14.172110</td>\n",
       "      <td>1.288399</td>\n",
       "      <td>0.823166</td>\n",
       "      <td>31.388207</td>\n",
       "    </tr>\n",
       "    <tr>\n",
       "      <th>min</th>\n",
       "      <td>1.000000</td>\n",
       "      <td>0.0</td>\n",
       "      <td>1.000000</td>\n",
       "      <td>1.000000</td>\n",
       "      <td>0.000000</td>\n",
       "      <td>0.000000</td>\n",
       "      <td>0.000000</td>\n",
       "    </tr>\n",
       "    <tr>\n",
       "      <th>25%</th>\n",
       "      <td>211.000000</td>\n",
       "      <td>0.0</td>\n",
       "      <td>2.000000</td>\n",
       "      <td>21.000000</td>\n",
       "      <td>0.000000</td>\n",
       "      <td>0.000000</td>\n",
       "      <td>7.854200</td>\n",
       "    </tr>\n",
       "    <tr>\n",
       "      <th>50%</th>\n",
       "      <td>455.000000</td>\n",
       "      <td>0.0</td>\n",
       "      <td>3.000000</td>\n",
       "      <td>28.000000</td>\n",
       "      <td>0.000000</td>\n",
       "      <td>0.000000</td>\n",
       "      <td>10.500000</td>\n",
       "    </tr>\n",
       "    <tr>\n",
       "      <th>75%</th>\n",
       "      <td>675.000000</td>\n",
       "      <td>0.0</td>\n",
       "      <td>3.000000</td>\n",
       "      <td>39.000000</td>\n",
       "      <td>1.000000</td>\n",
       "      <td>0.000000</td>\n",
       "      <td>26.000000</td>\n",
       "    </tr>\n",
       "    <tr>\n",
       "      <th>max</th>\n",
       "      <td>891.000000</td>\n",
       "      <td>0.0</td>\n",
       "      <td>3.000000</td>\n",
       "      <td>74.000000</td>\n",
       "      <td>8.000000</td>\n",
       "      <td>6.000000</td>\n",
       "      <td>263.000000</td>\n",
       "    </tr>\n",
       "  </tbody>\n",
       "</table>\n",
       "</div>"
      ],
      "text/plain": [
       "       PassengerId  Survived      Pclass         Age       SibSp       Parch  \\\n",
       "count   549.000000     549.0  549.000000  424.000000  549.000000  549.000000   \n",
       "mean    447.016393       0.0    2.531876   30.626179    0.553734    0.329690   \n",
       "std     260.640469       0.0    0.735805   14.172110    1.288399    0.823166   \n",
       "min       1.000000       0.0    1.000000    1.000000    0.000000    0.000000   \n",
       "25%     211.000000       0.0    2.000000   21.000000    0.000000    0.000000   \n",
       "50%     455.000000       0.0    3.000000   28.000000    0.000000    0.000000   \n",
       "75%     675.000000       0.0    3.000000   39.000000    1.000000    0.000000   \n",
       "max     891.000000       0.0    3.000000   74.000000    8.000000    6.000000   \n",
       "\n",
       "             Fare  \n",
       "count  549.000000  \n",
       "mean    22.117887  \n",
       "std     31.388207  \n",
       "min      0.000000  \n",
       "25%      7.854200  \n",
       "50%     10.500000  \n",
       "75%     26.000000  \n",
       "max    263.000000  "
      ]
     },
     "execution_count": 4,
     "metadata": {},
     "output_type": "execute_result"
    }
   ],
   "source": [
    "df_train[df_train['Survived']==0].describe()"
   ]
  },
  {
   "cell_type": "code",
   "execution_count": 166,
   "metadata": {
    "collapsed": false
   },
   "outputs": [
    {
     "data": {
      "text/plain": [
       "891"
      ]
     },
     "execution_count": 166,
     "metadata": {},
     "output_type": "execute_result"
    }
   ],
   "source": [
    "len(df_train['Name'].unique())"
   ]
  },
  {
   "cell_type": "code",
   "execution_count": 87,
   "metadata": {
    "collapsed": true
   },
   "outputs": [],
   "source": [
    "#Vocab\n",
    "def make_vocab(src,convert_word,stopwords):\n",
    "    vocab =  set([])\n",
    "    stopwords = list(map(convert_word,stopwords))\n",
    "    for doc in src:\n",
    "        lines = doc.split(\"\\n\")\n",
    "        for line in lines:\n",
    "            line = convert_word(line)\n",
    "            words = line.split(\" \")\n",
    "            for word in words:\n",
    "                if not(word in stopwords): \n",
    "                    vocab.add(word)\n",
    "    return np.array(list(vocab))"
   ]
  },
  {
   "cell_type": "code",
   "execution_count": 88,
   "metadata": {
    "collapsed": true
   },
   "outputs": [],
   "source": [
    "import re\n",
    "def only_lower(word):\n",
    "    return re.sub(r'[^a-zA-Z]', \" \", word)"
   ]
  },
  {
   "cell_type": "code",
   "execution_count": 89,
   "metadata": {
    "collapsed": false
   },
   "outputs": [],
   "source": [
    "vocab=make_vocab(df_train['Name'],only_lower,[\"\"])"
   ]
  },
  {
   "cell_type": "code",
   "execution_count": 90,
   "metadata": {
    "collapsed": false
   },
   "outputs": [
    {
     "data": {
      "text/plain": [
       "1530"
      ]
     },
     "execution_count": 90,
     "metadata": {},
     "output_type": "execute_result"
    }
   ],
   "source": [
    "len(vocab)"
   ]
  },
  {
   "cell_type": "code",
   "execution_count": 93,
   "metadata": {
    "collapsed": true
   },
   "outputs": [],
   "source": [
    "#Bag of Words\n",
    "#Stop wordsをつぶす\n",
    "def data2bow(data,vocab,convert_word,stopwords):\n",
    "    bows = np.ndarray((len(data),len(vocab)))\n",
    "    stopwords = list(map(convert_word,stopwords))\n",
    "    for (i,doc) in enumerate(data):\n",
    "        lines = doc.split(\"\\n\")\n",
    "        bow = bows[i,:]\n",
    "        for line in lines:\n",
    "            line = convert_word(line)\n",
    "            words = line.split(\" \")\n",
    "            for word in words:\n",
    "                word;\n",
    "                if word in vocab:\n",
    "                    if not(word in stopwords): \n",
    "                        bow[list(vocab).index(word)]+=1\n",
    "        #print(i)\n",
    "    return bows"
   ]
  },
  {
   "cell_type": "code",
   "execution_count": 94,
   "metadata": {
    "collapsed": false
   },
   "outputs": [],
   "source": [
    "bow_train=data2bow(df_train['Name'],vocab,only_lower,[\"\"])"
   ]
  },
  {
   "cell_type": "code",
   "execution_count": 95,
   "metadata": {
    "collapsed": true
   },
   "outputs": [],
   "source": [
    "bow_test=data2bow(df_test['Name'],vocab,only_lower,[\"\"])"
   ]
  },
  {
   "cell_type": "code",
   "execution_count": 96,
   "metadata": {
    "collapsed": false
   },
   "outputs": [
    {
     "data": {
      "text/plain": [
       "(891, 86)"
      ]
     },
     "execution_count": 96,
     "metadata": {},
     "output_type": "execute_result"
    }
   ],
   "source": [
    "bow_train[:,np.where(sum(bow_train)>4)[0]].shape"
   ]
  },
  {
   "cell_type": "code",
   "execution_count": 97,
   "metadata": {
    "collapsed": false
   },
   "outputs": [
    {
     "data": {
      "text/plain": [
       "(418, 86)"
      ]
     },
     "execution_count": 97,
     "metadata": {},
     "output_type": "execute_result"
    }
   ],
   "source": [
    "bow_test[:,np.where(sum(bow_train)>4)[0]].shape"
   ]
  },
  {
   "cell_type": "code",
   "execution_count": 100,
   "metadata": {
    "collapsed": false
   },
   "outputs": [
    {
     "data": {
      "text/plain": [
       "array(['O', 'Alice', 'Master', 'Carter', 'Samuel', 'Marie', 'J', 'Alfred',\n",
       "       'William', 'Albert', 'August', 'Robert', 'Thomas', 'Johan',\n",
       "       'Arthur', 'Florence', 'Patrick', 'Margaret', 'Gustafsson', 'Miss',\n",
       "       'Rice', 'Maria', 'Richard', 'Henry', 'James', 'Annie', 'Johnson',\n",
       "       'Ernest', 'Francis', 'Harris', 'Andersson', 'Goodwin', 'Karl',\n",
       "       'Catherine', 'Louise', 'Brown', 'E', 'L', 'Harry', 'David', 'Ellen',\n",
       "       'Edith', 'Peter', 'Jr', 'Anne', 'Mary', 'Sofia', 'Bertha', 'Walter',\n",
       "       'Frank', 'Mr', 'de', 'Frederick', 'Elias', 'Gustaf', 'Ada', 'Ford',\n",
       "       'Martin', 'Joseph', 'Daniel', 'Williams', 'Mrs', 'John', 'Panula',\n",
       "       'H', 'Olsen', 'Charles', 'Kate', 'Nils', 'Helen', 'Hansen', 'Anna',\n",
       "       'y', 'Edward', 'Alexander', 'Jane', 'Rev', 'Leonard', 'Victor',\n",
       "       'Ernst', 'George', 'Elizabeth', 'Sage', 'Dr', 'Skoog', 'Augusta'], \n",
       "      dtype='<U13')"
      ]
     },
     "execution_count": 100,
     "metadata": {},
     "output_type": "execute_result"
    }
   ],
   "source": [
    "vocab[np.where(sum(bow_train)>4)[0]]"
   ]
  },
  {
   "cell_type": "code",
   "execution_count": 5,
   "metadata": {
    "collapsed": false
   },
   "outputs": [
    {
     "data": {
      "text/html": [
       "<div>\n",
       "<table border=\"1\" class=\"dataframe\">\n",
       "  <thead>\n",
       "    <tr style=\"text-align: right;\">\n",
       "      <th></th>\n",
       "      <th>PassengerId</th>\n",
       "      <th>Survived</th>\n",
       "      <th>Pclass</th>\n",
       "      <th>Age</th>\n",
       "      <th>SibSp</th>\n",
       "      <th>Parch</th>\n",
       "      <th>Fare</th>\n",
       "    </tr>\n",
       "  </thead>\n",
       "  <tbody>\n",
       "    <tr>\n",
       "      <th>count</th>\n",
       "      <td>342.000000</td>\n",
       "      <td>342.0</td>\n",
       "      <td>342.000000</td>\n",
       "      <td>290.000000</td>\n",
       "      <td>342.000000</td>\n",
       "      <td>342.000000</td>\n",
       "      <td>342.000000</td>\n",
       "    </tr>\n",
       "    <tr>\n",
       "      <th>mean</th>\n",
       "      <td>444.368421</td>\n",
       "      <td>1.0</td>\n",
       "      <td>1.950292</td>\n",
       "      <td>28.343690</td>\n",
       "      <td>0.473684</td>\n",
       "      <td>0.464912</td>\n",
       "      <td>48.395408</td>\n",
       "    </tr>\n",
       "    <tr>\n",
       "      <th>std</th>\n",
       "      <td>252.358840</td>\n",
       "      <td>0.0</td>\n",
       "      <td>0.863321</td>\n",
       "      <td>14.950952</td>\n",
       "      <td>0.708688</td>\n",
       "      <td>0.771712</td>\n",
       "      <td>66.596998</td>\n",
       "    </tr>\n",
       "    <tr>\n",
       "      <th>min</th>\n",
       "      <td>2.000000</td>\n",
       "      <td>1.0</td>\n",
       "      <td>1.000000</td>\n",
       "      <td>0.420000</td>\n",
       "      <td>0.000000</td>\n",
       "      <td>0.000000</td>\n",
       "      <td>0.000000</td>\n",
       "    </tr>\n",
       "    <tr>\n",
       "      <th>25%</th>\n",
       "      <td>250.750000</td>\n",
       "      <td>1.0</td>\n",
       "      <td>1.000000</td>\n",
       "      <td>19.000000</td>\n",
       "      <td>0.000000</td>\n",
       "      <td>0.000000</td>\n",
       "      <td>12.475000</td>\n",
       "    </tr>\n",
       "    <tr>\n",
       "      <th>50%</th>\n",
       "      <td>439.500000</td>\n",
       "      <td>1.0</td>\n",
       "      <td>2.000000</td>\n",
       "      <td>28.000000</td>\n",
       "      <td>0.000000</td>\n",
       "      <td>0.000000</td>\n",
       "      <td>26.000000</td>\n",
       "    </tr>\n",
       "    <tr>\n",
       "      <th>75%</th>\n",
       "      <td>651.500000</td>\n",
       "      <td>1.0</td>\n",
       "      <td>3.000000</td>\n",
       "      <td>36.000000</td>\n",
       "      <td>1.000000</td>\n",
       "      <td>1.000000</td>\n",
       "      <td>57.000000</td>\n",
       "    </tr>\n",
       "    <tr>\n",
       "      <th>max</th>\n",
       "      <td>890.000000</td>\n",
       "      <td>1.0</td>\n",
       "      <td>3.000000</td>\n",
       "      <td>80.000000</td>\n",
       "      <td>4.000000</td>\n",
       "      <td>5.000000</td>\n",
       "      <td>512.329200</td>\n",
       "    </tr>\n",
       "  </tbody>\n",
       "</table>\n",
       "</div>"
      ],
      "text/plain": [
       "       PassengerId  Survived      Pclass         Age       SibSp       Parch  \\\n",
       "count   342.000000     342.0  342.000000  290.000000  342.000000  342.000000   \n",
       "mean    444.368421       1.0    1.950292   28.343690    0.473684    0.464912   \n",
       "std     252.358840       0.0    0.863321   14.950952    0.708688    0.771712   \n",
       "min       2.000000       1.0    1.000000    0.420000    0.000000    0.000000   \n",
       "25%     250.750000       1.0    1.000000   19.000000    0.000000    0.000000   \n",
       "50%     439.500000       1.0    2.000000   28.000000    0.000000    0.000000   \n",
       "75%     651.500000       1.0    3.000000   36.000000    1.000000    1.000000   \n",
       "max     890.000000       1.0    3.000000   80.000000    4.000000    5.000000   \n",
       "\n",
       "             Fare  \n",
       "count  342.000000  \n",
       "mean    48.395408  \n",
       "std     66.596998  \n",
       "min      0.000000  \n",
       "25%     12.475000  \n",
       "50%     26.000000  \n",
       "75%     57.000000  \n",
       "max    512.329200  "
      ]
     },
     "execution_count": 5,
     "metadata": {},
     "output_type": "execute_result"
    }
   ],
   "source": [
    "df_train[df_train['Survived']==1].describe()"
   ]
  },
  {
   "cell_type": "code",
   "execution_count": 7,
   "metadata": {
    "collapsed": true
   },
   "outputs": [],
   "source": [
    "def process_df(df):\n",
    "    df_processed=df.fillna(df.interpolate(method='linear'))\n",
    "    df_processed=df_processed[[\"Pclass\",\"Sex\",\"Age\",\"SibSp\",\"Parch\",\"Fare\",\"Embarked\"]+([\"Survived\"] if \"Survived\" in df.columns else [])]\n",
    "    df_processed[\"Embarked\"].unique()\n",
    "    sex_map = {\"male\":0,\"female\":1}\n",
    "    df_processed[\"Sex\"]=df_processed[\"Sex\"].map(sex_map)\n",
    "    df_processed=pd.concat([df_processed,pd.get_dummies(df_processed[\"Embarked\"])],axis=1).drop(\"Embarked\",axis=1)\n",
    "    print(df_processed.info())\n",
    "    return df_processed"
   ]
  },
  {
   "cell_type": "code",
   "execution_count": 8,
   "metadata": {
    "collapsed": false
   },
   "outputs": [
    {
     "name": "stdout",
     "output_type": "stream",
     "text": [
      "<class 'pandas.core.frame.DataFrame'>\n",
      "RangeIndex: 891 entries, 0 to 890\n",
      "Data columns (total 10 columns):\n",
      "Pclass      891 non-null int64\n",
      "Sex         891 non-null int64\n",
      "Age         891 non-null float64\n",
      "SibSp       891 non-null int64\n",
      "Parch       891 non-null int64\n",
      "Fare        891 non-null float64\n",
      "Survived    891 non-null int64\n",
      "C           891 non-null uint8\n",
      "Q           891 non-null uint8\n",
      "S           891 non-null uint8\n",
      "dtypes: float64(2), int64(5), uint8(3)\n",
      "memory usage: 51.4 KB\n",
      "None\n",
      "<class 'pandas.core.frame.DataFrame'>\n",
      "RangeIndex: 418 entries, 0 to 417\n",
      "Data columns (total 9 columns):\n",
      "Pclass    418 non-null int64\n",
      "Sex       418 non-null int64\n",
      "Age       418 non-null float64\n",
      "SibSp     418 non-null int64\n",
      "Parch     418 non-null int64\n",
      "Fare      418 non-null float64\n",
      "C         418 non-null uint8\n",
      "Q         418 non-null uint8\n",
      "S         418 non-null uint8\n",
      "dtypes: float64(2), int64(4), uint8(3)\n",
      "memory usage: 20.9 KB\n",
      "None\n"
     ]
    }
   ],
   "source": [
    "df_train_processed = process_df(df_train)\n",
    "df_test_processed = process_df(df_test)"
   ]
  },
  {
   "cell_type": "code",
   "execution_count": 9,
   "metadata": {
    "collapsed": false
   },
   "outputs": [],
   "source": [
    "X_train = df_train_processed.drop(\"Survived\",axis=1).values"
   ]
  },
  {
   "cell_type": "code",
   "execution_count": 10,
   "metadata": {
    "collapsed": false
   },
   "outputs": [],
   "source": [
    "y_train = df_train_processed[\"Survived\"].values"
   ]
  },
  {
   "cell_type": "code",
   "execution_count": 11,
   "metadata": {
    "collapsed": true
   },
   "outputs": [],
   "source": [
    "X_test = df_test_processed.values"
   ]
  },
  {
   "cell_type": "code",
   "execution_count": 104,
   "metadata": {
    "collapsed": true
   },
   "outputs": [],
   "source": [
    "X_train=np.hstack((X_train,bow_train))"
   ]
  },
  {
   "cell_type": "code",
   "execution_count": 103,
   "metadata": {
    "collapsed": false
   },
   "outputs": [],
   "source": [
    "X_test=np.hstack((X_test,bow_test))"
   ]
  },
  {
   "cell_type": "code",
   "execution_count": 105,
   "metadata": {
    "collapsed": true
   },
   "outputs": [],
   "source": [
    "# グリッドサーチの結果を出力する関数\n",
    "# (分類器, X_test, y_test, 評価指標)\n",
    "from sklearn.metrics import classification_report\n",
    "def print_param_table(clf, X_test, y_test):\n",
    "    # 最適なモデルを出力\n",
    "    print(\"# best model:\\n{}\\n\".format(clf.best_estimator_))\n",
    "    \n",
    "    # 最適なパラメータを出力\n",
    "    print(\"# best parameter:\\n{}\\n\".format(clf.best_params_))\n",
    "    \n",
    "    # 交差検証の結果を出力\n",
    "    print(\"# cv score:\")\n",
    "    means = clf.cv_results_['mean_test_score']#追加\n",
    "    stds = clf.cv_results_['std_test_score']#追加\n",
    "    for mean_score, std, params in zip(means, stds, clf.cv_results_['params']):#for params, mean_score, scores in clf.grid_scores_:\n",
    "        print(\"{:.3f} (+/- {:.5f}) for {}\".format(mean_score, std * 2, params))#print(\"{:.3f} (+/- {:.5f}) for {}\".format(mean_score, scores.std() * 2, params))\n",
    "    \n",
    "    # 各クラスごとの評価指標を出力\n",
    "    print(\"\\n# test valuate:\")\n",
    "    y_true, y_pred = y_test, clf.predict(X_test)\n",
    "    print(classification_report(y_true, y_pred))"
   ]
  },
  {
   "cell_type": "code",
   "execution_count": 115,
   "metadata": {
    "collapsed": false
   },
   "outputs": [],
   "source": [
    "param_grid = {'n_estimators': [i for i in range(100,301,50)],\n",
    "              'max_depth':  [i for i in range(100, 401, 100)],\n",
    "              'max_features':[40,60,80]\n",
    "             }\n"
   ]
  },
  {
   "cell_type": "code",
   "execution_count": 118,
   "metadata": {
    "collapsed": false
   },
   "outputs": [
    {
     "data": {
      "text/plain": [
       "GridSearchCV(cv=3, error_score='raise',\n",
       "       estimator=RandomForestClassifier(bootstrap=True, class_weight=None, criterion='gini',\n",
       "            max_depth=None, max_features='auto', max_leaf_nodes=None,\n",
       "            min_impurity_split=1e-07, min_samples_leaf=1,\n",
       "            min_samples_split=2, min_weight_fraction_leaf=0.0,\n",
       "            n_estimators=10, n_jobs=1, oob_score=False, random_state=None,\n",
       "            verbose=0, warm_start=False),\n",
       "       fit_params={}, iid=True, n_jobs=-1,\n",
       "       param_grid={'n_estimators': [100, 150, 200, 250, 300], 'max_depth': [100, 200, 300, 400], 'max_features': [40, 60, 80]},\n",
       "       pre_dispatch='2*n_jobs', refit=True, return_train_score=True,\n",
       "       scoring=None, verbose=0)"
      ]
     },
     "execution_count": 118,
     "metadata": {},
     "output_type": "execute_result"
    }
   ],
   "source": [
    "# グリッドサーチの実行\n",
    "from sklearn.ensemble import RandomForestClassifier\n",
    "from sklearn.model_selection import GridSearchCV\n",
    "rf_clf = GridSearchCV(RandomForestClassifier(),param_grid, cv=3,n_jobs=-1)\n",
    "rf_clf.fit(X_train, y_train)"
   ]
  },
  {
   "cell_type": "code",
   "execution_count": 120,
   "metadata": {
    "collapsed": false
   },
   "outputs": [
    {
     "name": "stdout",
     "output_type": "stream",
     "text": [
      "# best model:\n",
      "RandomForestClassifier(bootstrap=True, class_weight=None, criterion='gini',\n",
      "            max_depth=100, max_features=80, max_leaf_nodes=None,\n",
      "            min_impurity_split=1e-07, min_samples_leaf=1,\n",
      "            min_samples_split=2, min_weight_fraction_leaf=0.0,\n",
      "            n_estimators=200, n_jobs=1, oob_score=False, random_state=None,\n",
      "            verbose=0, warm_start=False)\n",
      "\n",
      "# best parameter:\n",
      "{'max_depth': 100, 'max_features': 80, 'n_estimators': 200}\n",
      "\n",
      "# cv score:\n",
      "0.824 (+/- 0.03028) for {'max_depth': 100, 'max_features': 40, 'n_estimators': 100}\n",
      "0.825 (+/- 0.03344) for {'max_depth': 100, 'max_features': 40, 'n_estimators': 150}\n",
      "0.828 (+/- 0.03061) for {'max_depth': 100, 'max_features': 40, 'n_estimators': 200}\n",
      "0.825 (+/- 0.03061) for {'max_depth': 100, 'max_features': 40, 'n_estimators': 250}\n",
      "0.826 (+/- 0.03028) for {'max_depth': 100, 'max_features': 40, 'n_estimators': 300}\n",
      "0.825 (+/- 0.02520) for {'max_depth': 100, 'max_features': 60, 'n_estimators': 100}\n",
      "0.824 (+/- 0.03314) for {'max_depth': 100, 'max_features': 60, 'n_estimators': 150}\n",
      "0.826 (+/- 0.02712) for {'max_depth': 100, 'max_features': 60, 'n_estimators': 200}\n",
      "0.823 (+/- 0.02712) for {'max_depth': 100, 'max_features': 60, 'n_estimators': 250}\n",
      "0.826 (+/- 0.02222) for {'max_depth': 100, 'max_features': 60, 'n_estimators': 300}\n",
      "0.826 (+/- 0.03222) for {'max_depth': 100, 'max_features': 80, 'n_estimators': 100}\n",
      "0.827 (+/- 0.02082) for {'max_depth': 100, 'max_features': 80, 'n_estimators': 150}\n",
      "0.831 (+/- 0.02540) for {'max_depth': 100, 'max_features': 80, 'n_estimators': 200}\n",
      "0.826 (+/- 0.02712) for {'max_depth': 100, 'max_features': 80, 'n_estimators': 250}\n",
      "0.828 (+/- 0.02397) for {'max_depth': 100, 'max_features': 80, 'n_estimators': 300}\n",
      "0.823 (+/- 0.02822) for {'max_depth': 200, 'max_features': 40, 'n_estimators': 100}\n",
      "0.827 (+/- 0.02767) for {'max_depth': 200, 'max_features': 40, 'n_estimators': 150}\n",
      "0.825 (+/- 0.03965) for {'max_depth': 200, 'max_features': 40, 'n_estimators': 200}\n",
      "0.829 (+/- 0.02479) for {'max_depth': 200, 'max_features': 40, 'n_estimators': 250}\n",
      "0.824 (+/- 0.02767) for {'max_depth': 200, 'max_features': 40, 'n_estimators': 300}\n",
      "0.825 (+/- 0.02909) for {'max_depth': 200, 'max_features': 60, 'n_estimators': 100}\n",
      "0.822 (+/- 0.03965) for {'max_depth': 200, 'max_features': 60, 'n_estimators': 150}\n",
      "0.827 (+/- 0.02222) for {'max_depth': 200, 'max_features': 60, 'n_estimators': 200}\n",
      "0.826 (+/- 0.02822) for {'max_depth': 200, 'max_features': 60, 'n_estimators': 250}\n",
      "0.827 (+/- 0.02767) for {'max_depth': 200, 'max_features': 60, 'n_estimators': 300}\n",
      "0.826 (+/- 0.02712) for {'max_depth': 200, 'max_features': 80, 'n_estimators': 100}\n",
      "0.829 (+/- 0.02222) for {'max_depth': 200, 'max_features': 80, 'n_estimators': 150}\n",
      "0.822 (+/- 0.03434) for {'max_depth': 200, 'max_features': 80, 'n_estimators': 200}\n",
      "0.827 (+/- 0.02767) for {'max_depth': 200, 'max_features': 80, 'n_estimators': 250}\n",
      "0.831 (+/- 0.02222) for {'max_depth': 200, 'max_features': 80, 'n_estimators': 300}\n",
      "0.831 (+/- 0.02598) for {'max_depth': 300, 'max_features': 40, 'n_estimators': 100}\n",
      "0.826 (+/- 0.03028) for {'max_depth': 300, 'max_features': 40, 'n_estimators': 150}\n",
      "0.824 (+/- 0.02598) for {'max_depth': 300, 'max_features': 40, 'n_estimators': 200}\n",
      "0.824 (+/- 0.03535) for {'max_depth': 300, 'max_features': 40, 'n_estimators': 250}\n",
      "0.827 (+/- 0.02222) for {'max_depth': 300, 'max_features': 40, 'n_estimators': 300}\n",
      "0.824 (+/- 0.03978) for {'max_depth': 300, 'max_features': 60, 'n_estimators': 100}\n",
      "0.826 (+/- 0.02289) for {'max_depth': 300, 'max_features': 60, 'n_estimators': 150}\n",
      "0.826 (+/- 0.03661) for {'max_depth': 300, 'max_features': 60, 'n_estimators': 200}\n",
      "0.824 (+/- 0.03028) for {'max_depth': 300, 'max_features': 60, 'n_estimators': 250}\n",
      "0.827 (+/- 0.02082) for {'max_depth': 300, 'max_features': 60, 'n_estimators': 300}\n",
      "0.826 (+/- 0.02289) for {'max_depth': 300, 'max_features': 80, 'n_estimators': 100}\n",
      "0.825 (+/- 0.03344) for {'max_depth': 300, 'max_features': 80, 'n_estimators': 150}\n",
      "0.827 (+/- 0.02767) for {'max_depth': 300, 'max_features': 80, 'n_estimators': 200}\n",
      "0.824 (+/- 0.03126) for {'max_depth': 300, 'max_features': 80, 'n_estimators': 250}\n",
      "0.829 (+/- 0.02479) for {'max_depth': 300, 'max_features': 80, 'n_estimators': 300}\n",
      "0.820 (+/- 0.01680) for {'max_depth': 400, 'max_features': 40, 'n_estimators': 100}\n",
      "0.823 (+/- 0.03360) for {'max_depth': 400, 'max_features': 40, 'n_estimators': 150}\n",
      "0.831 (+/- 0.02767) for {'max_depth': 400, 'max_features': 40, 'n_estimators': 200}\n",
      "0.824 (+/- 0.03314) for {'max_depth': 400, 'max_features': 40, 'n_estimators': 250}\n",
      "0.828 (+/- 0.02909) for {'max_depth': 400, 'max_features': 40, 'n_estimators': 300}\n",
      "0.825 (+/- 0.02857) for {'max_depth': 400, 'max_features': 60, 'n_estimators': 100}\n",
      "0.829 (+/- 0.02289) for {'max_depth': 400, 'max_features': 60, 'n_estimators': 150}\n",
      "0.829 (+/- 0.02222) for {'max_depth': 400, 'max_features': 60, 'n_estimators': 200}\n",
      "0.828 (+/- 0.02520) for {'max_depth': 400, 'max_features': 60, 'n_estimators': 250}\n",
      "0.825 (+/- 0.03061) for {'max_depth': 400, 'max_features': 60, 'n_estimators': 300}\n",
      "0.826 (+/- 0.02712) for {'max_depth': 400, 'max_features': 80, 'n_estimators': 100}\n",
      "0.828 (+/- 0.02520) for {'max_depth': 400, 'max_features': 80, 'n_estimators': 150}\n",
      "0.826 (+/- 0.02822) for {'max_depth': 400, 'max_features': 80, 'n_estimators': 200}\n",
      "0.823 (+/- 0.03577) for {'max_depth': 400, 'max_features': 80, 'n_estimators': 250}\n",
      "0.827 (+/- 0.03126) for {'max_depth': 400, 'max_features': 80, 'n_estimators': 300}\n",
      "\n",
      "# test valuate:\n",
      "             precision    recall  f1-score   support\n",
      "\n",
      "          0       1.00      1.00      1.00       549\n",
      "          1       1.00      1.00      1.00       342\n",
      "\n",
      "avg / total       1.00      1.00      1.00       891\n",
      "\n"
     ]
    }
   ],
   "source": [
    "print_param_table(rf_clf, X_train, y_train)"
   ]
  },
  {
   "cell_type": "code",
   "execution_count": 149,
   "metadata": {
    "collapsed": false
   },
   "outputs": [],
   "source": [
    "y_pred=rf_clf.predict(X_test)"
   ]
  },
  {
   "cell_type": "code",
   "execution_count": 169,
   "metadata": {
    "collapsed": false
   },
   "outputs": [
    {
     "data": {
      "text/plain": [
       "array(['Mr', 'Miss', 'Mrs', 'Master', 'Mary', 'Anna', 'Henry', 'Eugene',\n",
       "       'William', 'Carl', 'Elizabeth', 'Mellors', 'Tornquist', 'Andersson',\n",
       "       'Daly', 'Julian', 'Maria', 'Jussila', 'Beesley', 'Beane',\n",
       "       'Wilhelms', 'Stranden', 'Juha', 'Jalsevac', 'John', 'Dorking',\n",
       "       'George', 'Mamee', 'Rev', 'McCormack', 'Jonsson', 'Nikola', 'Ann',\n",
       "       'Eiriik', 'Robert', 'Victor', 'Edward', 'Edwart', 'Albert', 'Alice',\n",
       "       'Eino', 'Woolner', 'Kate', 'Moss', 'Bourke', 'Helen', 'Hosono',\n",
       "       'Niskanen', 'Margaret', 'Lefebre', 'Lindqvist', 'Lulic', 'Williams',\n",
       "       'Theodore', 'Harry', 'Carter', 'Persson', 'Hanna', 'Sundman',\n",
       "       'Bing', 'Nakid', 'Arthur', 'McCoy', 'Sunderland', 'Charles',\n",
       "       'Bernard', 'Oskar', 'Trembisky', 'Skoog', 'Ulrik', 'Chip',\n",
       "       'Masabumi', 'Zabour', 'Lang', 'Sloper', 'Joseph', 'Sage', 'Goodwin',\n",
       "       'Dahl', 'Mulder', 'Allison', 'Marija', 'Johan', 'Mack', 'Pickard',\n",
       "       'Mangan', 'Jansson', 'Harris', 'Panula', 'Boulos'], \n",
       "      dtype='<U13')"
      ]
     },
     "execution_count": 169,
     "metadata": {},
     "output_type": "execute_result"
    }
   ],
   "source": [
    "vocab[np.argsort(rf_clf.best_estimator_.feature_importances_)[-1:-100:-1][np.argsort(rf_clf.best_estimator_.feature_importances_)[-1:-100:-1]>=9]-9]"
   ]
  },
  {
   "cell_type": "code",
   "execution_count": 150,
   "metadata": {
    "collapsed": false
   },
   "outputs": [],
   "source": [
    "df_ans=pd.concat([df_test[\"PassengerId\"],pd.Series(y_pred,name=\"Survived\")],axis=1)"
   ]
  },
  {
   "cell_type": "code",
   "execution_count": 151,
   "metadata": {
    "collapsed": true
   },
   "outputs": [],
   "source": [
    "df_ans.to_csv(\"ans.csv\",index=False)"
   ]
  },
  {
   "cell_type": "code",
   "execution_count": 14,
   "metadata": {
    "collapsed": false
   },
   "outputs": [],
   "source": [
    "def show_info(data,colname):\n",
    "    temp = data[[colname,\"Survived\"]].groupby([colname],as_index = False).mean()\n",
    "    plt.bar(temp[colname],temp[\"Survived\"])\n",
    "    plt.show()\n",
    "    return temp"
   ]
  },
  {
   "cell_type": "code",
   "execution_count": 15,
   "metadata": {
    "collapsed": true
   },
   "outputs": [],
   "source": [
    "def show_hist(data,survived,feature):\n",
    "    plt.hist(data[df_train['Survived']==survived][feature].dropna(),bins=20)\n",
    "    plt.show()"
   ]
  },
  {
   "cell_type": "code",
   "execution_count": 16,
   "metadata": {
    "collapsed": false
   },
   "outputs": [
    {
     "data": {
      "text/plain": [
       "Index(['PassengerId', 'Survived', 'Pclass', 'Name', 'Sex', 'Age', 'SibSp',\n",
       "       'Parch', 'Ticket', 'Fare', 'Cabin', 'Embarked'],\n",
       "      dtype='object')"
      ]
     },
     "execution_count": 16,
     "metadata": {},
     "output_type": "execute_result"
    }
   ],
   "source": [
    "df_train.columns"
   ]
  },
  {
   "cell_type": "code",
   "execution_count": 17,
   "metadata": {
    "collapsed": false
   },
   "outputs": [
    {
     "data": {
      "image/png": "[encoded data removed]",
      "text/plain": [
       "<matplotlib.figure.Figure at 0x21d21509630>"
      ]
     },
     "metadata": {},
     "output_type": "display_data"
    },
    {
     "data": {
      "text/html": [
       "<div>\n",
       "<table border=\"1\" class=\"dataframe\">\n",
       "  <thead>\n",
       "    <tr style=\"text-align: right;\">\n",
       "      <th></th>\n",
       "      <th>SibSp</th>\n",
       "      <th>Survived</th>\n",
       "    </tr>\n",
       "  </thead>\n",
       "  <tbody>\n",
       "    <tr>\n",
       "      <th>0</th>\n",
       "      <td>0</td>\n",
       "      <td>0.345395</td>\n",
       "    </tr>\n",
       "    <tr>\n",
       "      <th>1</th>\n",
       "      <td>1</td>\n",
       "      <td>0.535885</td>\n",
       "    </tr>\n",
       "    <tr>\n",
       "      <th>2</th>\n",
       "      <td>2</td>\n",
       "      <td>0.464286</td>\n",
       "    </tr>\n",
       "    <tr>\n",
       "      <th>3</th>\n",
       "      <td>3</td>\n",
       "      <td>0.250000</td>\n",
       "    </tr>\n",
       "    <tr>\n",
       "      <th>4</th>\n",
       "      <td>4</td>\n",
       "      <td>0.166667</td>\n",
       "    </tr>\n",
       "    <tr>\n",
       "      <th>5</th>\n",
       "      <td>5</td>\n",
       "      <td>0.000000</td>\n",
       "    </tr>\n",
       "    <tr>\n",
       "      <th>6</th>\n",
       "      <td>8</td>\n",
       "      <td>0.000000</td>\n",
       "    </tr>\n",
       "  </tbody>\n",
       "</table>\n",
       "</div>"
      ],
      "text/plain": [
       "   SibSp  Survived\n",
       "0      0  0.345395\n",
       "1      1  0.535885\n",
       "2      2  0.464286\n",
       "3      3  0.250000\n",
       "4      4  0.166667\n",
       "5      5  0.000000\n",
       "6      8  0.000000"
      ]
     },
     "execution_count": 17,
     "metadata": {},
     "output_type": "execute_result"
    }
   ],
   "source": [
    "show_info(df_train,\"SibSp\")"
   ]
  },
  {
   "cell_type": "code",
   "execution_count": 20,
   "metadata": {
    "collapsed": false
   },
   "outputs": [
    {
     "data": {
      "image/png": "[encoded data removed]",
      "text/plain": [
       "<matplotlib.figure.Figure at 0x21d217cffd0>"
      ]
     },
     "metadata": {},
     "output_type": "display_data"
    }
   ],
   "source": [
    "show_hist(df_train_processed,0,\"Age\")"
   ]
  },
  {
   "cell_type": "code",
   "execution_count": 22,
   "metadata": {
    "collapsed": false
   },
   "outputs": [
    {
     "data": {
      "image/png": "[encoded data removed]",
      "text/plain": [
       "<matplotlib.figure.Figure at 0x21d2170e908>"
      ]
     },
     "metadata": {},
     "output_type": "display_data"
    }
   ],
   "source": [
    "show_hist(df_train,0,\"Age\")"
   ]
  },
  {
   "cell_type": "code",
   "execution_count": 49,
   "metadata": {
    "collapsed": false
   },
   "outputs": [
    {
     "data": {
      "text/plain": [
       "150    83.1583\n",
       "151     7.8958\n",
       "152        NaN\n",
       "153    12.1833\n",
       "154    31.3875\n",
       "Name: Fare, dtype: float64"
      ]
     },
     "execution_count": 49,
     "metadata": {},
     "output_type": "execute_result"
    }
   ],
   "source": [
    "df_test['Fare'][150:155]"
   ]
  }
 ],
 "metadata": {
  "kernelspec": {
   "display_name": "Python 3",
   "language": "python",
   "name": "python3"
  },
  "language_info": {
   "codemirror_mode": {
    "name": "ipython",
    "version": 3
   },
   "file_extension": ".py",
   "mimetype": "text/x-python",
   "name": "python",
   "nbconvert_exporter": "python",
   "pygments_lexer": "ipython3",
   "version": "3.6.0"
  }
 },
 "nbformat": 4,
 "nbformat_minor": 2
}
